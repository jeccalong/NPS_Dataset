{
 "cells": [
  {
   "cell_type": "code",
   "execution_count": 21,
   "id": "1d58bd3f",
   "metadata": {},
   "outputs": [
    {
     "name": "stdout",
     "output_type": "stream",
     "text": [
      "Defaulting to user installation because normal site-packages is not writeable\n",
      "Requirement already satisfied: python-dotenv in c:\\users\\jecca\\appdata\\roaming\\python\\python313\\site-packages (1.1.1)\n",
      "Note: you may need to restart the kernel to use updated packages.\n"
     ]
    }
   ],
   "source": [
    "%pip install python-dotenv"
   ]
  },
  {
   "cell_type": "markdown",
   "id": "827cef48",
   "metadata": {},
   "source": [
    "In the notebook eda, I did some simple work with the mortality dataset and then used the NPS API to get park codes that matched the park name for each death. Now, I'm going to start with that dataset to get even more info from the NPS API."
   ]
  },
  {
   "cell_type": "code",
   "execution_count": 4,
   "id": "e00ad3e2",
   "metadata": {},
   "outputs": [],
   "source": [
    "import pandas as pd\n",
    "\n",
    "import numpy as np\n",
    "\n",
    "import matplotlib.pyplot as plt\n",
    "\n",
    "import requests, time\n",
    "\n",
    "from dotenv import load_dotenv\n",
    "\n",
    "import os"
   ]
  },
  {
   "cell_type": "markdown",
   "id": "12204bbc",
   "metadata": {},
   "source": [
    "Load API key from .env"
   ]
  },
  {
   "cell_type": "code",
   "execution_count": 5,
   "id": "56794606",
   "metadata": {},
   "outputs": [
    {
     "name": "stdout",
     "output_type": "stream",
     "text": [
      "True\n"
     ]
    }
   ],
   "source": [
    "load_dotenv()\n",
    "\n",
    "API_KEY = os.getenv(\"NPS_API_KEY\")\n",
    "\n",
    "print(API_KEY is not None)"
   ]
  },
  {
   "cell_type": "code",
   "execution_count": 6,
   "id": "d1932889",
   "metadata": {},
   "outputs": [
    {
     "data": {
      "text/html": [
       "<div>\n",
       "<style scoped>\n",
       "    .dataframe tbody tr th:only-of-type {\n",
       "        vertical-align: middle;\n",
       "    }\n",
       "\n",
       "    .dataframe tbody tr th {\n",
       "        vertical-align: top;\n",
       "    }\n",
       "\n",
       "    .dataframe thead th {\n",
       "        text-align: right;\n",
       "    }\n",
       "</style>\n",
       "<table border=\"1\" class=\"dataframe\">\n",
       "  <thead>\n",
       "    <tr style=\"text-align: right;\">\n",
       "      <th></th>\n",
       "      <th>Incident Date</th>\n",
       "      <th>Park Name</th>\n",
       "      <th>Cause of Death</th>\n",
       "      <th>Cause of Death Group \\n(Used in the NPS Mortality Dashboard)</th>\n",
       "      <th>Intent</th>\n",
       "      <th>Outcome</th>\n",
       "      <th>Sex</th>\n",
       "      <th>Age Range</th>\n",
       "      <th>Activity</th>\n",
       "      <th>parkCode</th>\n",
       "      <th>fullName_official</th>\n",
       "      <th>skip_api</th>\n",
       "    </tr>\n",
       "  </thead>\n",
       "  <tbody>\n",
       "    <tr>\n",
       "      <th>0</th>\n",
       "      <td>2007-01-01</td>\n",
       "      <td>Glen Canyon National Recreation Area</td>\n",
       "      <td>Undetermined</td>\n",
       "      <td>Undetermined</td>\n",
       "      <td>Undetermined</td>\n",
       "      <td>Fatal injury</td>\n",
       "      <td>Male</td>\n",
       "      <td>65+</td>\n",
       "      <td>Not Reported</td>\n",
       "      <td>glca</td>\n",
       "      <td>Glen Canyon National Recreation Area</td>\n",
       "      <td>False</td>\n",
       "    </tr>\n",
       "    <tr>\n",
       "      <th>1</th>\n",
       "      <td>2007-01-22</td>\n",
       "      <td>Golden Gate National Recreation Area</td>\n",
       "      <td>Drowning</td>\n",
       "      <td>Drowning</td>\n",
       "      <td>Unintentional</td>\n",
       "      <td>Fatal injury</td>\n",
       "      <td>Male</td>\n",
       "      <td>Not Reported</td>\n",
       "      <td>Vessel Related</td>\n",
       "      <td>goga</td>\n",
       "      <td>Golden Gate National Recreation Area</td>\n",
       "      <td>False</td>\n",
       "    </tr>\n",
       "    <tr>\n",
       "      <th>2</th>\n",
       "      <td>2007-01-22</td>\n",
       "      <td>Golden Gate National Recreation Area</td>\n",
       "      <td>Undetermined</td>\n",
       "      <td>Undetermined</td>\n",
       "      <td>Undetermined</td>\n",
       "      <td>Fatal injury</td>\n",
       "      <td>Male</td>\n",
       "      <td>Not Reported</td>\n",
       "      <td>Vessel Related</td>\n",
       "      <td>goga</td>\n",
       "      <td>Golden Gate National Recreation Area</td>\n",
       "      <td>False</td>\n",
       "    </tr>\n",
       "    <tr>\n",
       "      <th>3</th>\n",
       "      <td>2007-01-29</td>\n",
       "      <td>Natchez Trace Parkway</td>\n",
       "      <td>Motor Vehicle Crash</td>\n",
       "      <td>Motor Vehicle Crash</td>\n",
       "      <td>Unintentional</td>\n",
       "      <td>Fatal injury</td>\n",
       "      <td>Female</td>\n",
       "      <td>15-24</td>\n",
       "      <td>Driving</td>\n",
       "      <td>natr</td>\n",
       "      <td>Natchez Trace Parkway</td>\n",
       "      <td>False</td>\n",
       "    </tr>\n",
       "    <tr>\n",
       "      <th>4</th>\n",
       "      <td>2007-01-29</td>\n",
       "      <td>Natchez Trace Parkway</td>\n",
       "      <td>Motor Vehicle Crash</td>\n",
       "      <td>Motor Vehicle Crash</td>\n",
       "      <td>Unintentional</td>\n",
       "      <td>Fatal injury</td>\n",
       "      <td>Female</td>\n",
       "      <td>45-54</td>\n",
       "      <td>Driving</td>\n",
       "      <td>natr</td>\n",
       "      <td>Natchez Trace Parkway</td>\n",
       "      <td>False</td>\n",
       "    </tr>\n",
       "  </tbody>\n",
       "</table>\n",
       "</div>"
      ],
      "text/plain": [
       "  Incident Date                             Park Name       Cause of Death  \\\n",
       "0    2007-01-01  Glen Canyon National Recreation Area         Undetermined   \n",
       "1    2007-01-22  Golden Gate National Recreation Area             Drowning   \n",
       "2    2007-01-22  Golden Gate National Recreation Area         Undetermined   \n",
       "3    2007-01-29                 Natchez Trace Parkway  Motor Vehicle Crash   \n",
       "4    2007-01-29                 Natchez Trace Parkway  Motor Vehicle Crash   \n",
       "\n",
       "  Cause of Death Group \\n(Used in the NPS Mortality Dashboard)   \\\n",
       "0                                       Undetermined              \n",
       "1                                           Drowning              \n",
       "2                                       Undetermined              \n",
       "3                                Motor Vehicle Crash              \n",
       "4                                Motor Vehicle Crash              \n",
       "\n",
       "          Intent       Outcome     Sex     Age Range        Activity parkCode  \\\n",
       "0   Undetermined  Fatal injury    Male           65+    Not Reported     glca   \n",
       "1  Unintentional  Fatal injury    Male  Not Reported  Vessel Related     goga   \n",
       "2   Undetermined  Fatal injury    Male  Not Reported  Vessel Related     goga   \n",
       "3  Unintentional  Fatal injury  Female         15-24        Driving      natr   \n",
       "4  Unintentional  Fatal injury  Female         45-54        Driving      natr   \n",
       "\n",
       "                      fullName_official  skip_api  \n",
       "0  Glen Canyon National Recreation Area     False  \n",
       "1  Golden Gate National Recreation Area     False  \n",
       "2  Golden Gate National Recreation Area     False  \n",
       "3                 Natchez Trace Parkway     False  \n",
       "4                 Natchez Trace Parkway     False  "
      ]
     },
     "execution_count": 6,
     "metadata": {},
     "output_type": "execute_result"
    }
   ],
   "source": [
    "df = pd.read_csv(\"../data/mortality_with_parks.csv\")\n",
    "\n",
    "df.head()"
   ]
  },
  {
   "cell_type": "markdown",
   "id": "2a37d67e",
   "metadata": {},
   "source": [
    "I need the year of each event to lookup the visitor statistics for that year. I'm going to pull it out of the incident date column. I want some more info about that column first."
   ]
  },
  {
   "cell_type": "code",
   "execution_count": 7,
   "id": "03aeaa83",
   "metadata": {},
   "outputs": [
    {
     "name": "stdout",
     "output_type": "stream",
     "text": [
      "object\n"
     ]
    }
   ],
   "source": [
    "print(df[\"Incident Date\"].dtype)"
   ]
  },
  {
   "cell_type": "markdown",
   "id": "0b33ae0f",
   "metadata": {},
   "source": [
    "The date is currently an object -- a string in this case -- so I'm going to convert it to datetime."
   ]
  },
  {
   "cell_type": "code",
   "execution_count": 8,
   "id": "8d1c7606",
   "metadata": {},
   "outputs": [],
   "source": [
    "df[\"Incident Date\"] = pd.to_datetime(df[\"Incident Date\"], errors=\"coerce\")\n"
   ]
  },
  {
   "cell_type": "markdown",
   "id": "2c8ad074",
   "metadata": {},
   "source": [
    "run this line again to confirm that it was changed correctly."
   ]
  },
  {
   "cell_type": "code",
   "execution_count": 9,
   "id": "4804499d",
   "metadata": {},
   "outputs": [
    {
     "name": "stdout",
     "output_type": "stream",
     "text": [
      "datetime64[ns]\n"
     ]
    }
   ],
   "source": [
    "print(df[\"Incident Date\"].dtype)"
   ]
  },
  {
   "cell_type": "markdown",
   "id": "3510860c",
   "metadata": {},
   "source": [
    "Check to see if there are any missing dates."
   ]
  },
  {
   "cell_type": "code",
   "execution_count": 10,
   "id": "5421da5d",
   "metadata": {},
   "outputs": [
    {
     "name": "stdout",
     "output_type": "stream",
     "text": [
      "0\n"
     ]
    }
   ],
   "source": [
    "print(df[\"Incident Date\"].isna().sum())"
   ]
  },
  {
   "cell_type": "markdown",
   "id": "ad466c1b",
   "metadata": {},
   "source": [
    "Next, I'm going to build the dataframe I need to request from the API -- that park code and incident year for every row that has a park code, and no rows that do not."
   ]
  },
  {
   "cell_type": "code",
   "execution_count": 11,
   "id": "1c43ef71",
   "metadata": {},
   "outputs": [
    {
     "name": "stdout",
     "output_type": "stream",
     "text": [
      "Unique (parkCode, year) pairs: 1340\n"
     ]
    },
    {
     "data": {
      "text/html": [
       "<div>\n",
       "<style scoped>\n",
       "    .dataframe tbody tr th:only-of-type {\n",
       "        vertical-align: middle;\n",
       "    }\n",
       "\n",
       "    .dataframe tbody tr th {\n",
       "        vertical-align: top;\n",
       "    }\n",
       "\n",
       "    .dataframe thead th {\n",
       "        text-align: right;\n",
       "    }\n",
       "</style>\n",
       "<table border=\"1\" class=\"dataframe\">\n",
       "  <thead>\n",
       "    <tr style=\"text-align: right;\">\n",
       "      <th></th>\n",
       "      <th>parkCode</th>\n",
       "      <th>Incident Date</th>\n",
       "      <th>year</th>\n",
       "    </tr>\n",
       "  </thead>\n",
       "  <tbody>\n",
       "    <tr>\n",
       "      <th>0</th>\n",
       "      <td>glca</td>\n",
       "      <td>2007-01-01</td>\n",
       "      <td>2007</td>\n",
       "    </tr>\n",
       "    <tr>\n",
       "      <th>1</th>\n",
       "      <td>goga</td>\n",
       "      <td>2007-01-22</td>\n",
       "      <td>2007</td>\n",
       "    </tr>\n",
       "    <tr>\n",
       "      <th>2</th>\n",
       "      <td>natr</td>\n",
       "      <td>2007-01-29</td>\n",
       "      <td>2007</td>\n",
       "    </tr>\n",
       "    <tr>\n",
       "      <th>3</th>\n",
       "      <td>gate</td>\n",
       "      <td>2007-02-07</td>\n",
       "      <td>2007</td>\n",
       "    </tr>\n",
       "    <tr>\n",
       "      <th>4</th>\n",
       "      <td>blca</td>\n",
       "      <td>2007-02-10</td>\n",
       "      <td>2007</td>\n",
       "    </tr>\n",
       "  </tbody>\n",
       "</table>\n",
       "</div>"
      ],
      "text/plain": [
       "  parkCode Incident Date  year\n",
       "0     glca    2007-01-01  2007\n",
       "1     goga    2007-01-22  2007\n",
       "2     natr    2007-01-29  2007\n",
       "3     gate    2007-02-07  2007\n",
       "4     blca    2007-02-10  2007"
      ]
     },
     "execution_count": 11,
     "metadata": {},
     "output_type": "execute_result"
    }
   ],
   "source": [
    "pairs = (\n",
    "    #filter out rows that don't have a park code\n",
    "    df.loc[df[\"parkCode\"].notna(), [\"parkCode\", \"Incident Date\"]]\n",
    "    #Pull the calendar year into a new column to search for annual data\n",
    "      .assign(year=lambda d: d[\"Incident Date\"].dt.year.astype(int))\n",
    "    #drop duplicates since I can match data to all lines with the same code and year\n",
    "      .drop_duplicates(subset=[\"parkCode\", \"year\"])\n",
    "      .reset_index(drop=True)\n",
    ")\n",
    "\n",
    "#Print length of the new dataframe and the first few lines to make sure the info is correct\n",
    "print(\"Unique (parkCode, year) pairs:\", len(pairs))\n",
    "pairs.head()"
   ]
  },
  {
   "cell_type": "code",
   "execution_count": 19,
   "id": "28927aa4",
   "metadata": {},
   "outputs": [],
   "source": [
    "def fetch_annual_visits(unit_code: str, year: int, pause: float = 0.25,\n",
    "                        base: str = \"https://irmaservices.nps.gov/v3/rest/stats/visitation\") -> dict | None:\n",
    "    \"\"\"\n",
    "    Fetch monthly visitation for a park/year and return annual totals\n",
    "    for RecreationVisitors and NonRecreationVisitors. Handles either\n",
    "    capitalized or lower_snake column names.\n",
    "    \"\"\"\n",
    "\n",
    "\n",
    "    params = {\n",
    "        \"unitCodes\": unit_code,\n",
    "        \"startMonth\": 1, \"startYear\": year,\n",
    "        \"endMonth\": 12, \"endYear\": year,\n",
    "        \"format\": \"json\",\n",
    "    }\n",
    "    try:\n",
    "        r = requests.get(base, params=params, headers={\"Accept\": \"application/json\"}, timeout=30)\n",
    "        r.raise_for_status()\n",
    "        rows = r.json()\n",
    "        if not rows:\n",
    "            time.sleep(pause)\n",
    "            return None\n",
    "\n",
    "        dfm = pd.DataFrame(rows)\n",
    "\n",
    "        # Normalize column names to a common set we can sum\n",
    "        cols = {c.lower(): c for c in dfm.columns}  # map lowercase -> actual\n",
    "        rec_col = cols.get(\"recreationvisitors\") or cols.get(\"recreationvisits\")\n",
    "        nonrec_col = cols.get(\"nonrecreationvisitors\") or cols.get(\"nonrecreationvisits\")\n",
    "\n",
    "        rec = int(dfm[rec_col].fillna(0).sum()) if rec_col in dfm.columns else None\n",
    "        nonrec = int(dfm[nonrec_col].fillna(0).sum()) if nonrec_col in dfm.columns else None\n",
    "\n",
    "        time.sleep(pause)\n",
    "        return {\"recreationVisits\": rec, \"nonRecreationVisits\": nonrec}\n",
    "\n",
    "    except requests.HTTPError as e:\n",
    "        print(f\"[HTTP {getattr(e.response,'status_code','?')}] {unit_code} {year}: {e}\")\n",
    "        time.sleep(pause)\n",
    "        return None\n",
    "    except Exception as e:\n",
    "        print(f\"[Error] {unit_code} {year}: {e}\")\n",
    "        time.sleep(pause)\n",
    "        return None\n"
   ]
  },
  {
   "cell_type": "code",
   "execution_count": 20,
   "id": "1f820d9d",
   "metadata": {},
   "outputs": [
    {
     "name": "stdout",
     "output_type": "stream",
     "text": [
      "{'recreationVisits': 5974411, 'nonRecreationVisits': 21249}\n"
     ]
    }
   ],
   "source": [
    "print(fetch_annual_visits(\"grca\", 2019))\n",
    "# Expected shape: {'recreationVisits': <big int>, 'nonRecreationVisits': <int>}\n"
   ]
  },
  {
   "cell_type": "code",
   "execution_count": 21,
   "id": "c348c520",
   "metadata": {},
   "outputs": [
    {
     "name": "stdout",
     "output_type": "stream",
     "text": [
      "Fetched 25 / 1340\n",
      "Fetched 50 / 1340\n",
      "Fetched 75 / 1340\n",
      "Fetched 100 / 1340\n",
      "Fetched 125 / 1340\n",
      "Fetched 150 / 1340\n",
      "Fetched 175 / 1340\n",
      "Fetched 200 / 1340\n",
      "Fetched 225 / 1340\n",
      "Fetched 250 / 1340\n",
      "Fetched 275 / 1340\n",
      "Fetched 300 / 1340\n",
      "Fetched 325 / 1340\n",
      "Fetched 350 / 1340\n",
      "Fetched 375 / 1340\n",
      "Fetched 400 / 1340\n",
      "Fetched 425 / 1340\n",
      "Fetched 450 / 1340\n",
      "Fetched 475 / 1340\n",
      "Fetched 500 / 1340\n",
      "Fetched 525 / 1340\n",
      "Fetched 550 / 1340\n",
      "Fetched 575 / 1340\n",
      "Fetched 600 / 1340\n",
      "Fetched 625 / 1340\n",
      "Fetched 650 / 1340\n",
      "Fetched 675 / 1340\n",
      "Fetched 700 / 1340\n",
      "Fetched 725 / 1340\n",
      "Fetched 750 / 1340\n",
      "Fetched 775 / 1340\n",
      "Fetched 800 / 1340\n",
      "Fetched 825 / 1340\n",
      "Fetched 850 / 1340\n",
      "Fetched 875 / 1340\n",
      "Fetched 900 / 1340\n",
      "Fetched 925 / 1340\n",
      "Fetched 950 / 1340\n",
      "Fetched 975 / 1340\n",
      "Fetched 1000 / 1340\n",
      "Fetched 1025 / 1340\n",
      "Fetched 1050 / 1340\n",
      "Fetched 1075 / 1340\n",
      "Fetched 1100 / 1340\n",
      "Fetched 1125 / 1340\n",
      "Fetched 1150 / 1340\n",
      "Fetched 1175 / 1340\n",
      "Fetched 1200 / 1340\n",
      "Fetched 1225 / 1340\n",
      "Fetched 1250 / 1340\n",
      "Fetched 1275 / 1340\n",
      "Fetched 1300 / 1340\n",
      "Fetched 1325 / 1340\n",
      "Done. Rows fetched: 1340\n"
     ]
    },
    {
     "data": {
      "text/html": [
       "<div>\n",
       "<style scoped>\n",
       "    .dataframe tbody tr th:only-of-type {\n",
       "        vertical-align: middle;\n",
       "    }\n",
       "\n",
       "    .dataframe tbody tr th {\n",
       "        vertical-align: top;\n",
       "    }\n",
       "\n",
       "    .dataframe thead th {\n",
       "        text-align: right;\n",
       "    }\n",
       "</style>\n",
       "<table border=\"1\" class=\"dataframe\">\n",
       "  <thead>\n",
       "    <tr style=\"text-align: right;\">\n",
       "      <th></th>\n",
       "      <th>parkCode</th>\n",
       "      <th>year</th>\n",
       "      <th>recreationVisits</th>\n",
       "      <th>nonRecreationVisits</th>\n",
       "    </tr>\n",
       "  </thead>\n",
       "  <tbody>\n",
       "    <tr>\n",
       "      <th>0</th>\n",
       "      <td>glca</td>\n",
       "      <td>2007</td>\n",
       "      <td>1894114.0</td>\n",
       "      <td>19306.0</td>\n",
       "    </tr>\n",
       "    <tr>\n",
       "      <th>1</th>\n",
       "      <td>goga</td>\n",
       "      <td>2007</td>\n",
       "      <td>14397313.0</td>\n",
       "      <td>0.0</td>\n",
       "    </tr>\n",
       "    <tr>\n",
       "      <th>2</th>\n",
       "      <td>natr</td>\n",
       "      <td>2007</td>\n",
       "      <td>5777666.0</td>\n",
       "      <td>7248237.0</td>\n",
       "    </tr>\n",
       "    <tr>\n",
       "      <th>3</th>\n",
       "      <td>gate</td>\n",
       "      <td>2007</td>\n",
       "      <td>8813204.0</td>\n",
       "      <td>1358523.0</td>\n",
       "    </tr>\n",
       "    <tr>\n",
       "      <th>4</th>\n",
       "      <td>blca</td>\n",
       "      <td>2007</td>\n",
       "      <td>219576.0</td>\n",
       "      <td>0.0</td>\n",
       "    </tr>\n",
       "  </tbody>\n",
       "</table>\n",
       "</div>"
      ],
      "text/plain": [
       "  parkCode  year  recreationVisits  nonRecreationVisits\n",
       "0     glca  2007         1894114.0              19306.0\n",
       "1     goga  2007        14397313.0                  0.0\n",
       "2     natr  2007         5777666.0            7248237.0\n",
       "3     gate  2007         8813204.0            1358523.0\n",
       "4     blca  2007          219576.0                  0.0"
      ]
     },
     "execution_count": 21,
     "metadata": {},
     "output_type": "execute_result"
    }
   ],
   "source": [
    "cache = {}\n",
    "records = []\n",
    "\n",
    "for i, (code, yr) in enumerate(pairs[[\"parkCode\", \"year\"]].itertuples(index=False, name=None), start=1):\n",
    "    key = (str(code), int(yr))\n",
    "\n",
    "    if key in cache:\n",
    "        result = cache[key]\n",
    "    else:\n",
    "        result = fetch_annual_visits(key[0], key[1], pause=0.25)\n",
    "        cache[key] = result\n",
    "\n",
    "    if result is not None:\n",
    "        records.append({\n",
    "            \"parkCode\": key[0],\n",
    "            \"year\": key[1],\n",
    "            \"recreationVisits\": result[\"recreationVisits\"],\n",
    "            \"nonRecreationVisits\": result[\"nonRecreationVisits\"],\n",
    "        })\n",
    "    else:\n",
    "        records.append({\n",
    "            \"parkCode\": key[0],\n",
    "            \"year\": key[1],\n",
    "            \"recreationVisits\": None,\n",
    "            \"nonRecreationVisits\": None,\n",
    "        })\n",
    "\n",
    "    if i % 25 == 0:\n",
    "        print(f\"Fetched {i} / {len(pairs)}\")\n",
    "\n",
    "df_visits = pd.DataFrame(records)\n",
    "print(\"Done. Rows fetched:\", len(df_visits))\n",
    "df_visits.head()\n"
   ]
  }
 ],
 "metadata": {
  "kernelspec": {
   "display_name": "Python 3",
   "language": "python",
   "name": "python3"
  },
  "language_info": {
   "codemirror_mode": {
    "name": "ipython",
    "version": 3
   },
   "file_extension": ".py",
   "mimetype": "text/x-python",
   "name": "python",
   "nbconvert_exporter": "python",
   "pygments_lexer": "ipython3",
   "version": "3.13.1"
  }
 },
 "nbformat": 4,
 "nbformat_minor": 5
}
